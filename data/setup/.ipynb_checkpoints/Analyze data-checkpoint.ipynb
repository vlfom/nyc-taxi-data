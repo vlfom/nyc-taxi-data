{
 "cells": [
  {
   "cell_type": "code",
   "execution_count": 1,
   "metadata": {},
   "outputs": [],
   "source": [
    "import numpy as np\n",
    "import dask.dataframe as dd\n",
    "import pandas as pd\n",
    "import seaborn as sns\n",
    "from dask.distributed import Client\n",
    "from matplotlib import pyplot as plt"
   ]
  },
  {
   "cell_type": "code",
   "execution_count": 2,
   "metadata": {},
   "outputs": [],
   "source": [
    "data_path = \"../processed_data/\" + '2perc_sample.parquet'"
   ]
  },
  {
   "cell_type": "code",
   "execution_count": 3,
   "metadata": {},
   "outputs": [],
   "source": [
    "# start Dask client\n",
    "\n",
    "client = Client()"
   ]
  },
  {
   "cell_type": "code",
   "execution_count": 4,
   "metadata": {},
   "outputs": [],
   "source": [
    "# df = pd.read_parquet(data_path, engine='fastparquet')"
   ]
  },
  {
   "cell_type": "code",
   "execution_count": 5,
   "metadata": {},
   "outputs": [],
   "source": [
    "df = dd.read_parquet(data_path, engine='fastparquet')"
   ]
  },
  {
   "cell_type": "code",
   "execution_count": 6,
   "metadata": {
    "scrolled": true
   },
   "outputs": [],
   "source": [
    "df.pickup_datetime = df.pickup_datetime.astype('datetime64[ns]')\n",
    "df.dropoff_datetime = df.dropoff_datetime.astype('datetime64[ns]')"
   ]
  },
  {
   "cell_type": "code",
   "execution_count": 7,
   "metadata": {},
   "outputs": [],
   "source": [
    "df[\"pickup_year\"] = df.pickup_datetime.dt.year\n",
    "df[\"dropoff_year\"] = df.dropoff_datetime.dt.year"
   ]
  },
  {
   "cell_type": "code",
   "execution_count": 8,
   "metadata": {},
   "outputs": [],
   "source": [
    "df[\"pickup_year_month\"] = df.pickup_datetime.dt.year.astype('str') + \"_\" + df.pickup_datetime.dt.month.astype('str')\n",
    "df[\"dropoff_year_month\"] = df.dropoff_datetime.dt.year.astype('str') + \"_\" + df.dropoff_datetime.dt.month.astype('str')"
   ]
  },
  {
   "cell_type": "code",
   "execution_count": 11,
   "metadata": {
    "scrolled": true
   },
   "outputs": [
    {
     "data": {
      "text/html": [
       "<div>\n",
       "<style scoped>\n",
       "    .dataframe tbody tr th:only-of-type {\n",
       "        vertical-align: middle;\n",
       "    }\n",
       "\n",
       "    .dataframe tbody tr th {\n",
       "        vertical-align: top;\n",
       "    }\n",
       "\n",
       "    .dataframe thead th {\n",
       "        text-align: right;\n",
       "    }\n",
       "</style>\n",
       "<table border=\"1\" class=\"dataframe\">\n",
       "  <thead>\n",
       "    <tr style=\"text-align: right;\">\n",
       "      <th></th>\n",
       "      <th>pickup_datetime</th>\n",
       "      <th>pickup_taxizone_id</th>\n",
       "      <th>dropoff_datetime</th>\n",
       "      <th>dropoff_taxizone_id</th>\n",
       "      <th>trip_type</th>\n",
       "      <th>pickup_year</th>\n",
       "      <th>dropoff_year</th>\n",
       "      <th>pickup_year_month</th>\n",
       "      <th>dropoff_year_month</th>\n",
       "    </tr>\n",
       "  </thead>\n",
       "  <tbody>\n",
       "    <tr>\n",
       "      <th>411043</th>\n",
       "      <td>2014-04-11 16:31:00</td>\n",
       "      <td>236.0</td>\n",
       "      <td>NaT</td>\n",
       "      <td>NaN</td>\n",
       "      <td>uber</td>\n",
       "      <td>2014</td>\n",
       "      <td>NaN</td>\n",
       "      <td>2014_4</td>\n",
       "      <td>nan_nan</td>\n",
       "    </tr>\n",
       "    <tr>\n",
       "      <th>109275</th>\n",
       "      <td>2014-04-15 16:03:00</td>\n",
       "      <td>230.0</td>\n",
       "      <td>NaT</td>\n",
       "      <td>NaN</td>\n",
       "      <td>uber</td>\n",
       "      <td>2014</td>\n",
       "      <td>NaN</td>\n",
       "      <td>2014_4</td>\n",
       "      <td>nan_nan</td>\n",
       "    </tr>\n",
       "    <tr>\n",
       "      <th>296249</th>\n",
       "      <td>2014-04-23 18:06:00</td>\n",
       "      <td>164.0</td>\n",
       "      <td>NaT</td>\n",
       "      <td>NaN</td>\n",
       "      <td>uber</td>\n",
       "      <td>2014</td>\n",
       "      <td>NaN</td>\n",
       "      <td>2014_4</td>\n",
       "      <td>nan_nan</td>\n",
       "    </tr>\n",
       "    <tr>\n",
       "      <th>63588</th>\n",
       "      <td>2014-04-06 11:38:00</td>\n",
       "      <td>97.0</td>\n",
       "      <td>NaT</td>\n",
       "      <td>NaN</td>\n",
       "      <td>uber</td>\n",
       "      <td>2014</td>\n",
       "      <td>NaN</td>\n",
       "      <td>2014_4</td>\n",
       "      <td>nan_nan</td>\n",
       "    </tr>\n",
       "    <tr>\n",
       "      <th>418917</th>\n",
       "      <td>2014-04-12 17:28:00</td>\n",
       "      <td>68.0</td>\n",
       "      <td>NaT</td>\n",
       "      <td>NaN</td>\n",
       "      <td>uber</td>\n",
       "      <td>2014</td>\n",
       "      <td>NaN</td>\n",
       "      <td>2014_4</td>\n",
       "      <td>nan_nan</td>\n",
       "    </tr>\n",
       "    <tr>\n",
       "      <th>...</th>\n",
       "      <td>...</td>\n",
       "      <td>...</td>\n",
       "      <td>...</td>\n",
       "      <td>...</td>\n",
       "      <td>...</td>\n",
       "      <td>...</td>\n",
       "      <td>...</td>\n",
       "      <td>...</td>\n",
       "      <td>...</td>\n",
       "    </tr>\n",
       "    <tr>\n",
       "      <th>52751</th>\n",
       "      <td>2018-12-31 12:24:41</td>\n",
       "      <td>162.0</td>\n",
       "      <td>2019-01-01 11:56:22</td>\n",
       "      <td>162.0</td>\n",
       "      <td>yellow</td>\n",
       "      <td>2018</td>\n",
       "      <td>2019.0</td>\n",
       "      <td>2018_12</td>\n",
       "      <td>2019_1</td>\n",
       "    </tr>\n",
       "    <tr>\n",
       "      <th>137363</th>\n",
       "      <td>2018-12-31 19:00:26</td>\n",
       "      <td>170.0</td>\n",
       "      <td>2018-12-31 19:17:15</td>\n",
       "      <td>137.0</td>\n",
       "      <td>yellow</td>\n",
       "      <td>2018</td>\n",
       "      <td>2018.0</td>\n",
       "      <td>2018_12</td>\n",
       "      <td>2018_12</td>\n",
       "    </tr>\n",
       "    <tr>\n",
       "      <th>6221</th>\n",
       "      <td>2018-12-31 05:00:46</td>\n",
       "      <td>68.0</td>\n",
       "      <td>2018-12-31 05:01:29</td>\n",
       "      <td>186.0</td>\n",
       "      <td>yellow</td>\n",
       "      <td>2018</td>\n",
       "      <td>2018.0</td>\n",
       "      <td>2018_12</td>\n",
       "      <td>2018_12</td>\n",
       "    </tr>\n",
       "    <tr>\n",
       "      <th>12343</th>\n",
       "      <td>2018-12-31 07:41:14</td>\n",
       "      <td>142.0</td>\n",
       "      <td>2018-12-31 07:44:22</td>\n",
       "      <td>142.0</td>\n",
       "      <td>yellow</td>\n",
       "      <td>2018</td>\n",
       "      <td>2018.0</td>\n",
       "      <td>2018_12</td>\n",
       "      <td>2018_12</td>\n",
       "    </tr>\n",
       "    <tr>\n",
       "      <th>111826</th>\n",
       "      <td>2018-12-31 17:02:51</td>\n",
       "      <td>162.0</td>\n",
       "      <td>2018-12-31 17:05:53</td>\n",
       "      <td>141.0</td>\n",
       "      <td>yellow</td>\n",
       "      <td>2018</td>\n",
       "      <td>2018.0</td>\n",
       "      <td>2018_12</td>\n",
       "      <td>2018_12</td>\n",
       "    </tr>\n",
       "  </tbody>\n",
       "</table>\n",
       "<p>453926 rows × 9 columns</p>\n",
       "</div>"
      ],
      "text/plain": [
       "           pickup_datetime  pickup_taxizone_id    dropoff_datetime  \\\n",
       "411043 2014-04-11 16:31:00               236.0                 NaT   \n",
       "109275 2014-04-15 16:03:00               230.0                 NaT   \n",
       "296249 2014-04-23 18:06:00               164.0                 NaT   \n",
       "63588  2014-04-06 11:38:00                97.0                 NaT   \n",
       "418917 2014-04-12 17:28:00                68.0                 NaT   \n",
       "...                    ...                 ...                 ...   \n",
       "52751  2018-12-31 12:24:41               162.0 2019-01-01 11:56:22   \n",
       "137363 2018-12-31 19:00:26               170.0 2018-12-31 19:17:15   \n",
       "6221   2018-12-31 05:00:46                68.0 2018-12-31 05:01:29   \n",
       "12343  2018-12-31 07:41:14               142.0 2018-12-31 07:44:22   \n",
       "111826 2018-12-31 17:02:51               162.0 2018-12-31 17:05:53   \n",
       "\n",
       "        dropoff_taxizone_id trip_type  pickup_year  dropoff_year  \\\n",
       "411043                  NaN      uber         2014           NaN   \n",
       "109275                  NaN      uber         2014           NaN   \n",
       "296249                  NaN      uber         2014           NaN   \n",
       "63588                   NaN      uber         2014           NaN   \n",
       "418917                  NaN      uber         2014           NaN   \n",
       "...                     ...       ...          ...           ...   \n",
       "52751                 162.0    yellow         2018        2019.0   \n",
       "137363                137.0    yellow         2018        2018.0   \n",
       "6221                  186.0    yellow         2018        2018.0   \n",
       "12343                 142.0    yellow         2018        2018.0   \n",
       "111826                141.0    yellow         2018        2018.0   \n",
       "\n",
       "       pickup_year_month dropoff_year_month  \n",
       "411043            2014_4            nan_nan  \n",
       "109275            2014_4            nan_nan  \n",
       "296249            2014_4            nan_nan  \n",
       "63588             2014_4            nan_nan  \n",
       "418917            2014_4            nan_nan  \n",
       "...                  ...                ...  \n",
       "52751            2018_12             2019_1  \n",
       "137363           2018_12            2018_12  \n",
       "6221             2018_12            2018_12  \n",
       "12343            2018_12            2018_12  \n",
       "111826           2018_12            2018_12  \n",
       "\n",
       "[453926 rows x 9 columns]"
      ]
     },
     "execution_count": 11,
     "metadata": {},
     "output_type": "execute_result"
    }
   ],
   "source": [
    "# sample\n",
    "\n",
    "df.sample(frac=0.01).compute()\n",
    "\n",
    "# we see that some pickup_taxizone_id are nans, could be dropped if needed"
   ]
  },
  {
   "cell_type": "code",
   "execution_count": 9,
   "metadata": {},
   "outputs": [
    {
     "data": {
      "text/html": [
       "<div>\n",
       "<style scoped>\n",
       "    .dataframe tbody tr th:only-of-type {\n",
       "        vertical-align: middle;\n",
       "    }\n",
       "\n",
       "    .dataframe tbody tr th {\n",
       "        vertical-align: top;\n",
       "    }\n",
       "\n",
       "    .dataframe thead th {\n",
       "        text-align: right;\n",
       "    }\n",
       "</style>\n",
       "<table border=\"1\" class=\"dataframe\">\n",
       "  <thead>\n",
       "    <tr style=\"text-align: right;\">\n",
       "      <th></th>\n",
       "      <th>pickup_taxizone_id</th>\n",
       "    </tr>\n",
       "    <tr>\n",
       "      <th>pickup_year</th>\n",
       "      <th></th>\n",
       "    </tr>\n",
       "  </thead>\n",
       "  <tbody>\n",
       "    <tr>\n",
       "      <th>2009</th>\n",
       "      <td>3354886</td>\n",
       "    </tr>\n",
       "    <tr>\n",
       "      <th>2010</th>\n",
       "      <td>3286613</td>\n",
       "    </tr>\n",
       "    <tr>\n",
       "      <th>2011</th>\n",
       "      <td>3433945</td>\n",
       "    </tr>\n",
       "    <tr>\n",
       "      <th>2012</th>\n",
       "      <td>3473278</td>\n",
       "    </tr>\n",
       "    <tr>\n",
       "      <th>2013</th>\n",
       "      <td>3420303</td>\n",
       "    </tr>\n",
       "    <tr>\n",
       "      <th>2014</th>\n",
       "      <td>3639826</td>\n",
       "    </tr>\n",
       "    <tr>\n",
       "      <th>2015</th>\n",
       "      <td>4470765</td>\n",
       "    </tr>\n",
       "    <tr>\n",
       "      <th>2016</th>\n",
       "      <td>4773245</td>\n",
       "    </tr>\n",
       "    <tr>\n",
       "      <th>2017</th>\n",
       "      <td>5511068</td>\n",
       "    </tr>\n",
       "    <tr>\n",
       "      <th>2018</th>\n",
       "      <td>6707446</td>\n",
       "    </tr>\n",
       "    <tr>\n",
       "      <th>2019</th>\n",
       "      <td>8</td>\n",
       "    </tr>\n",
       "    <tr>\n",
       "      <th>2003</th>\n",
       "      <td>2</td>\n",
       "    </tr>\n",
       "    <tr>\n",
       "      <th>2008</th>\n",
       "      <td>11</td>\n",
       "    </tr>\n",
       "    <tr>\n",
       "      <th>2020</th>\n",
       "      <td>1</td>\n",
       "    </tr>\n",
       "  </tbody>\n",
       "</table>\n",
       "</div>"
      ],
      "text/plain": [
       "             pickup_taxizone_id\n",
       "pickup_year                    \n",
       "2009                    3354886\n",
       "2010                    3286613\n",
       "2011                    3433945\n",
       "2012                    3473278\n",
       "2013                    3420303\n",
       "2014                    3639826\n",
       "2015                    4470765\n",
       "2016                    4773245\n",
       "2017                    5511068\n",
       "2018                    6707446\n",
       "2019                          8\n",
       "2003                          2\n",
       "2008                         11\n",
       "2020                          1"
      ]
     },
     "execution_count": 9,
     "metadata": {},
     "output_type": "execute_result"
    }
   ],
   "source": [
    "# year counts\n",
    "\n",
    "df[df.pickup_taxizone_id.notnull()][[\"pickup_year\", \"pickup_taxizone_id\"]].groupby(\"pickup_year\").agg(\"count\").compute()\n",
    "\n",
    "# years not from 2009-2018 range are wrong data"
   ]
  },
  {
   "cell_type": "code",
   "execution_count": 12,
   "metadata": {},
   "outputs": [
    {
     "name": "stderr",
     "output_type": "stream",
     "text": [
      "distributed.utils_perf - WARNING - full garbage collections took 10% CPU time recently (threshold: 10%)\n",
      "distributed.utils_perf - WARNING - full garbage collections took 10% CPU time recently (threshold: 10%)\n",
      "distributed.utils_perf - WARNING - full garbage collections took 10% CPU time recently (threshold: 10%)\n"
     ]
    }
   ],
   "source": [
    "# rides by type per year & month\n",
    "\n",
    "df[\"pickup_yearmonth\"] = (df.pickup_datetime.dt.year.astype(int) - 2008) * 12 + df.pickup_datetime.dt.month.astype(int)\n",
    "\n",
    "monthly = df[df.pickup_taxizone_id.notnull()][\n",
    "    [\"pickup_yearmonth\", \"trip_type\", \"pickup_taxizone_id\"]\n",
    "].groupby([\"pickup_yearmonth\", \"trip_type\"]).agg(\"count\").compute()"
   ]
  },
  {
   "cell_type": "code",
   "execution_count": 14,
   "metadata": {},
   "outputs": [],
   "source": [
    "monthly = monthly.reset_index()"
   ]
  },
  {
   "cell_type": "code",
   "execution_count": 20,
   "metadata": {},
   "outputs": [
    {
     "data": {
      "text/plain": [
       "<matplotlib.axes._subplots.AxesSubplot at 0x7fcf58430550>"
      ]
     },
     "execution_count": 20,
     "metadata": {},
     "output_type": "execute_result"
    },
    {
     "data": {
      "image/png": "[encoded data removed]",
      "text/plain": [
       "<Figure size 1440x720 with 1 Axes>"
      ]
     },
     "metadata": {
      "needs_background": "light"
     },
     "output_type": "display_data"
    }
   ],
   "source": [
    "plt.figure(figsize=(20, 10))\n",
    "sns.lineplot(\n",
    "    x=\"pickup_yearmonth\",\n",
    "    y=\"pickup_taxizone_id\",\n",
    "    hue=\"trip_type\",\n",
    "    data=monthly[(monthly.pickup_yearmonth > 13) & (monthly.pickup_yearmonth < 133)]\n",
    ")\n"
   ]
  },
  {
   "cell_type": "code",
   "execution_count": null,
   "metadata": {},
   "outputs": [],
   "source": [
    "# we see that uber data overlaps with TLC's fhv data - one has to erase one of the sources to avoid duplicates"
   ]
  }
 ],
 "metadata": {
  "kernelspec": {
   "display_name": "Python 3",
   "language": "python",
   "name": "python3"
  },
  "language_info": {
   "codemirror_mode": {
    "name": "ipython",
    "version": 3
   },
   "file_extension": ".py",
   "mimetype": "text/x-python",
   "name": "python",
   "nbconvert_exporter": "python",
   "pygments_lexer": "ipython3",
   "version": "3.8.3"
  }
 },
 "nbformat": 4,
 "nbformat_minor": 4
}
